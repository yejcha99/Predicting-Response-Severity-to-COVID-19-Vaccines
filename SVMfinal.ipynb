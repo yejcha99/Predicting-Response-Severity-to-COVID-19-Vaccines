{
 "cells": [
  {
   "cell_type": "markdown",
   "id": "secondary-approval",
   "metadata": {},
   "source": [
    "Import necessary libraries"
   ]
  },
  {
   "cell_type": "code",
   "execution_count": 16,
   "id": "right-florida",
   "metadata": {},
   "outputs": [],
   "source": [
    "import sklearn\n",
    "import sklearn.preprocessing\n",
    "import sklearn.model_selection\n",
    "import sklearn.metrics\n",
    "from sklearn.metrics import classification_report, confusion_matrix\n",
    "from sklearn.svm import SVC\n",
    "from sklearn.model_selection import train_test_split, GridSearchCV\n",
    "import itertools\n",
    "import numpy as np\n",
    "import matplotlib.pyplot as plt\n",
    "import seaborn as sns\n",
    "import pandas as pd\n",
    "from sklearn import datasets, model_selection, preprocessing, svm, metrics, decomposition\n",
    "np.random.seed(0) # set random seed so everyone gets same results"
   ]
  },
  {
   "cell_type": "code",
   "execution_count": 17,
   "id": "environmental-yacht",
   "metadata": {},
   "outputs": [
    {
     "data": {
      "text/html": [
       "<div>\n",
       "<style scoped>\n",
       "    .dataframe tbody tr th:only-of-type {\n",
       "        vertical-align: middle;\n",
       "    }\n",
       "\n",
       "    .dataframe tbody tr th {\n",
       "        vertical-align: top;\n",
       "    }\n",
       "\n",
       "    .dataframe thead th {\n",
       "        text-align: right;\n",
       "    }\n",
       "</style>\n",
       "<table border=\"1\" class=\"dataframe\">\n",
       "  <thead>\n",
       "    <tr style=\"text-align: right;\">\n",
       "      <th></th>\n",
       "      <th>VAERS_ID</th>\n",
       "      <th>RECVDATE</th>\n",
       "      <th>STATE</th>\n",
       "      <th>AGE_YRS</th>\n",
       "      <th>CAGE_YR</th>\n",
       "      <th>CAGE_MO</th>\n",
       "      <th>SEX</th>\n",
       "      <th>RPT_DATE</th>\n",
       "      <th>SYMPTOM_TEXT</th>\n",
       "      <th>DIED</th>\n",
       "      <th>...</th>\n",
       "      <th>Pain</th>\n",
       "      <th>Pyrexia</th>\n",
       "      <th>Rash</th>\n",
       "      <th>Throat.tightness</th>\n",
       "      <th>Thrombosis</th>\n",
       "      <th>Tinnitus</th>\n",
       "      <th>Tremor</th>\n",
       "      <th>Urticaria</th>\n",
       "      <th>Vomiting</th>\n",
       "      <th>labels</th>\n",
       "    </tr>\n",
       "  </thead>\n",
       "  <tbody>\n",
       "    <tr>\n",
       "      <th>0</th>\n",
       "      <td>916600.0</td>\n",
       "      <td>2021-01-01</td>\n",
       "      <td>TX</td>\n",
       "      <td>33.0</td>\n",
       "      <td>33.0</td>\n",
       "      <td>NaN</td>\n",
       "      <td>F</td>\n",
       "      <td>NaN</td>\n",
       "      <td>Right side of epiglottis swelled up and hinder...</td>\n",
       "      <td>NaN</td>\n",
       "      <td>...</td>\n",
       "      <td>False</td>\n",
       "      <td>False</td>\n",
       "      <td>False</td>\n",
       "      <td>False</td>\n",
       "      <td>False</td>\n",
       "      <td>False</td>\n",
       "      <td>False</td>\n",
       "      <td>False</td>\n",
       "      <td>False</td>\n",
       "      <td>0</td>\n",
       "    </tr>\n",
       "    <tr>\n",
       "      <th>1</th>\n",
       "      <td>916601.0</td>\n",
       "      <td>2021-01-01</td>\n",
       "      <td>CA</td>\n",
       "      <td>73.0</td>\n",
       "      <td>73.0</td>\n",
       "      <td>NaN</td>\n",
       "      <td>F</td>\n",
       "      <td>NaN</td>\n",
       "      <td>Approximately 30 min post vaccination administ...</td>\n",
       "      <td>NaN</td>\n",
       "      <td>...</td>\n",
       "      <td>False</td>\n",
       "      <td>False</td>\n",
       "      <td>False</td>\n",
       "      <td>False</td>\n",
       "      <td>False</td>\n",
       "      <td>False</td>\n",
       "      <td>False</td>\n",
       "      <td>False</td>\n",
       "      <td>False</td>\n",
       "      <td>1</td>\n",
       "    </tr>\n",
       "    <tr>\n",
       "      <th>2</th>\n",
       "      <td>916602.0</td>\n",
       "      <td>2021-01-01</td>\n",
       "      <td>WA</td>\n",
       "      <td>23.0</td>\n",
       "      <td>23.0</td>\n",
       "      <td>NaN</td>\n",
       "      <td>F</td>\n",
       "      <td>NaN</td>\n",
       "      <td>About 15 minutes after receiving the vaccine, ...</td>\n",
       "      <td>NaN</td>\n",
       "      <td>...</td>\n",
       "      <td>True</td>\n",
       "      <td>False</td>\n",
       "      <td>False</td>\n",
       "      <td>False</td>\n",
       "      <td>False</td>\n",
       "      <td>False</td>\n",
       "      <td>False</td>\n",
       "      <td>False</td>\n",
       "      <td>False</td>\n",
       "      <td>1</td>\n",
       "    </tr>\n",
       "    <tr>\n",
       "      <th>3</th>\n",
       "      <td>916603.0</td>\n",
       "      <td>2021-01-01</td>\n",
       "      <td>WA</td>\n",
       "      <td>58.0</td>\n",
       "      <td>58.0</td>\n",
       "      <td>NaN</td>\n",
       "      <td>F</td>\n",
       "      <td>NaN</td>\n",
       "      <td>extreme fatigue, dizziness,. could not lift my...</td>\n",
       "      <td>NaN</td>\n",
       "      <td>...</td>\n",
       "      <td>False</td>\n",
       "      <td>False</td>\n",
       "      <td>False</td>\n",
       "      <td>False</td>\n",
       "      <td>False</td>\n",
       "      <td>False</td>\n",
       "      <td>False</td>\n",
       "      <td>False</td>\n",
       "      <td>False</td>\n",
       "      <td>0</td>\n",
       "    </tr>\n",
       "    <tr>\n",
       "      <th>4</th>\n",
       "      <td>916604.0</td>\n",
       "      <td>2021-01-01</td>\n",
       "      <td>TX</td>\n",
       "      <td>47.0</td>\n",
       "      <td>47.0</td>\n",
       "      <td>NaN</td>\n",
       "      <td>F</td>\n",
       "      <td>NaN</td>\n",
       "      <td>Injection site swelling, redness, warm to the ...</td>\n",
       "      <td>NaN</td>\n",
       "      <td>...</td>\n",
       "      <td>False</td>\n",
       "      <td>False</td>\n",
       "      <td>False</td>\n",
       "      <td>False</td>\n",
       "      <td>False</td>\n",
       "      <td>False</td>\n",
       "      <td>False</td>\n",
       "      <td>False</td>\n",
       "      <td>False</td>\n",
       "      <td>0</td>\n",
       "    </tr>\n",
       "  </tbody>\n",
       "</table>\n",
       "<p>5 rows × 83 columns</p>\n",
       "</div>"
      ],
      "text/plain": [
       "   VAERS_ID    RECVDATE STATE  AGE_YRS  CAGE_YR  CAGE_MO SEX  RPT_DATE  \\\n",
       "0  916600.0  2021-01-01    TX     33.0     33.0      NaN   F       NaN   \n",
       "1  916601.0  2021-01-01    CA     73.0     73.0      NaN   F       NaN   \n",
       "2  916602.0  2021-01-01    WA     23.0     23.0      NaN   F       NaN   \n",
       "3  916603.0  2021-01-01    WA     58.0     58.0      NaN   F       NaN   \n",
       "4  916604.0  2021-01-01    TX     47.0     47.0      NaN   F       NaN   \n",
       "\n",
       "                                        SYMPTOM_TEXT DIED  ...   Pain Pyrexia  \\\n",
       "0  Right side of epiglottis swelled up and hinder...  NaN  ...  False   False   \n",
       "1  Approximately 30 min post vaccination administ...  NaN  ...  False   False   \n",
       "2  About 15 minutes after receiving the vaccine, ...  NaN  ...   True   False   \n",
       "3  extreme fatigue, dizziness,. could not lift my...  NaN  ...  False   False   \n",
       "4  Injection site swelling, redness, warm to the ...  NaN  ...  False   False   \n",
       "\n",
       "    Rash Throat.tightness  Thrombosis  Tinnitus Tremor Urticaria Vomiting  \\\n",
       "0  False            False       False     False  False     False    False   \n",
       "1  False            False       False     False  False     False    False   \n",
       "2  False            False       False     False  False     False    False   \n",
       "3  False            False       False     False  False     False    False   \n",
       "4  False            False       False     False  False     False    False   \n",
       "\n",
       "  labels  \n",
       "0      0  \n",
       "1      1  \n",
       "2      1  \n",
       "3      0  \n",
       "4      0  \n",
       "\n",
       "[5 rows x 83 columns]"
      ]
     },
     "execution_count": 17,
     "metadata": {},
     "output_type": "execute_result"
    }
   ],
   "source": [
    "final = pd.read_csv(\"VAERS_final.csv\")\n",
    "final.head()"
   ]
  },
  {
   "cell_type": "code",
   "execution_count": 18,
   "id": "innocent-principle",
   "metadata": {},
   "outputs": [
    {
     "data": {
      "text/plain": [
       "Index(['VAERS_ID', 'RECVDATE', 'STATE', 'AGE_YRS', 'CAGE_YR', 'CAGE_MO', 'SEX',\n",
       "       'RPT_DATE', 'SYMPTOM_TEXT', 'DIED', 'DATEDIED', 'L_THREAT', 'ER_VISIT',\n",
       "       'HOSPITAL', 'HOSPDAYS', 'X_STAY', 'DISABLE', 'RECOVD', 'VAX_DATE',\n",
       "       'ONSET_DATE', 'NUMDAYS', 'LAB_DATA', 'V_ADMINBY', 'V_FUNDBY',\n",
       "       'OTHER_MEDS', 'CUR_ILL', 'HISTORY', 'PRIOR_VAX', 'SPLTTYPE',\n",
       "       'FORM_VERS', 'TODAYS_DATE', 'BIRTH_DEFECT', 'OFC_VISIT', 'ER_ED_VISIT',\n",
       "       'ALLERGIES', 'symptom_list', 'VAX_TYPE', 'VAX_MANU', 'VAX_LOT',\n",
       "       'VAX_DOSE_SERIES', 'VAX_ROUTE', 'VAX_SITE', 'VAX_NAME',\n",
       "       'Abortion.spontaneous', 'Anaphylactic.reaction', 'Appendicitis',\n",
       "       'Arthralgia', 'Asthenia', 'Chest.pain', 'Chills', 'Cough', 'COVID.19',\n",
       "       'Death', 'Diarrhoea', 'Dizziness', 'Dyspnoea', 'Facial.paralysis',\n",
       "       'Fatigue', 'Feeling.abnormal', 'Flushing', 'Headache', 'Hyperhidrosis',\n",
       "       'Hypoaesthesia', 'Injection.site.erythema', 'Injection.site.pain',\n",
       "       'Injection.site.pruritus', 'Injection.site.swelling',\n",
       "       'Injection.site.warmth', 'Loss.of.consciousness', 'Lymphadenopathy',\n",
       "       'Malaise', 'Muscular.weakness', 'Nausea', 'Pain', 'Pyrexia', 'Rash',\n",
       "       'Throat.tightness', 'Thrombosis', 'Tinnitus', 'Tremor', 'Urticaria',\n",
       "       'Vomiting', 'labels'],\n",
       "      dtype='object')"
      ]
     },
     "execution_count": 18,
     "metadata": {},
     "output_type": "execute_result"
    }
   ],
   "source": [
    "final.columns"
   ]
  },
  {
   "cell_type": "code",
   "execution_count": 19,
   "id": "funded-imperial",
   "metadata": {},
   "outputs": [
    {
     "data": {
      "text/plain": [
       "(34174, 83)"
      ]
     },
     "execution_count": 19,
     "metadata": {},
     "output_type": "execute_result"
    }
   ],
   "source": [
    "final.shape"
   ]
  },
  {
   "cell_type": "code",
   "execution_count": 20,
   "id": "north-melbourne",
   "metadata": {},
   "outputs": [],
   "source": [
    "y = final['labels']"
   ]
  },
  {
   "cell_type": "code",
   "execution_count": 21,
   "id": "fatal-latvia",
   "metadata": {},
   "outputs": [],
   "source": [
    "X = final[[\"AGE_YRS\", \"SEX\", \"OTHER_MEDS\",\"HISTORY\",\"ALLERGIES\",\"VAX_MANU\",\"VAX_DOSE_SERIES\"]]"
   ]
  },
  {
   "cell_type": "code",
   "execution_count": 22,
   "id": "marked-prison",
   "metadata": {},
   "outputs": [],
   "source": [
    "X[\"AGE_YRS\"] = X[\"AGE_YRS\"].replace(np.NaN, X[\"AGE_YRS\"].mean()) #replacing missing age values with mean of the column to prevent data loss"
   ]
  },
  {
   "cell_type": "code",
   "execution_count": 23,
   "id": "contrary-thickness",
   "metadata": {},
   "outputs": [
    {
     "data": {
      "text/html": [
       "<div>\n",
       "<style scoped>\n",
       "    .dataframe tbody tr th:only-of-type {\n",
       "        vertical-align: middle;\n",
       "    }\n",
       "\n",
       "    .dataframe tbody tr th {\n",
       "        vertical-align: top;\n",
       "    }\n",
       "\n",
       "    .dataframe thead th {\n",
       "        text-align: right;\n",
       "    }\n",
       "</style>\n",
       "<table border=\"1\" class=\"dataframe\">\n",
       "  <thead>\n",
       "    <tr style=\"text-align: right;\">\n",
       "      <th></th>\n",
       "      <th>AGE_YRS</th>\n",
       "      <th>SEX</th>\n",
       "      <th>OTHER_MEDS</th>\n",
       "      <th>HISTORY</th>\n",
       "      <th>ALLERGIES</th>\n",
       "      <th>VAX_MANU</th>\n",
       "      <th>VAX_DOSE_SERIES</th>\n",
       "    </tr>\n",
       "  </thead>\n",
       "  <tbody>\n",
       "    <tr>\n",
       "      <th>0</th>\n",
       "      <td>33.0</td>\n",
       "      <td>F</td>\n",
       "      <td>0</td>\n",
       "      <td>0</td>\n",
       "      <td>1</td>\n",
       "      <td>MODERNA</td>\n",
       "      <td>1</td>\n",
       "    </tr>\n",
       "    <tr>\n",
       "      <th>1</th>\n",
       "      <td>73.0</td>\n",
       "      <td>F</td>\n",
       "      <td>1</td>\n",
       "      <td>1</td>\n",
       "      <td>1</td>\n",
       "      <td>MODERNA</td>\n",
       "      <td>1</td>\n",
       "    </tr>\n",
       "    <tr>\n",
       "      <th>2</th>\n",
       "      <td>23.0</td>\n",
       "      <td>F</td>\n",
       "      <td>0</td>\n",
       "      <td>0</td>\n",
       "      <td>1</td>\n",
       "      <td>PFIZER\\BIONTECH</td>\n",
       "      <td>1</td>\n",
       "    </tr>\n",
       "    <tr>\n",
       "      <th>3</th>\n",
       "      <td>58.0</td>\n",
       "      <td>F</td>\n",
       "      <td>0</td>\n",
       "      <td>1</td>\n",
       "      <td>1</td>\n",
       "      <td>MODERNA</td>\n",
       "      <td>0</td>\n",
       "    </tr>\n",
       "    <tr>\n",
       "      <th>4</th>\n",
       "      <td>47.0</td>\n",
       "      <td>F</td>\n",
       "      <td>0</td>\n",
       "      <td>0</td>\n",
       "      <td>0</td>\n",
       "      <td>MODERNA</td>\n",
       "      <td>1</td>\n",
       "    </tr>\n",
       "  </tbody>\n",
       "</table>\n",
       "</div>"
      ],
      "text/plain": [
       "   AGE_YRS SEX  OTHER_MEDS  HISTORY  ALLERGIES         VAX_MANU  \\\n",
       "0     33.0   F           0        0          1          MODERNA   \n",
       "1     73.0   F           1        1          1          MODERNA   \n",
       "2     23.0   F           0        0          1  PFIZER\\BIONTECH   \n",
       "3     58.0   F           0        1          1          MODERNA   \n",
       "4     47.0   F           0        0          0          MODERNA   \n",
       "\n",
       "   VAX_DOSE_SERIES  \n",
       "0                1  \n",
       "1                1  \n",
       "2                1  \n",
       "3                0  \n",
       "4                1  "
      ]
     },
     "execution_count": 23,
     "metadata": {},
     "output_type": "execute_result"
    }
   ],
   "source": [
    "X.head()"
   ]
  },
  {
   "cell_type": "code",
   "execution_count": 24,
   "id": "floral-thong",
   "metadata": {},
   "outputs": [
    {
     "data": {
      "text/plain": [
       "array(['MODERNA', 'PFIZER\\\\BIONTECH', 'UNKNOWN MANUFACTURER', 'JANSSEN'],\n",
       "      dtype=object)"
      ]
     },
     "execution_count": 24,
     "metadata": {},
     "output_type": "execute_result"
    }
   ],
   "source": [
    "X[\"VAX_MANU\"].unique()"
   ]
  },
  {
   "cell_type": "code",
   "execution_count": 25,
   "id": "absolute-alert",
   "metadata": {},
   "outputs": [],
   "source": [
    "pd.options.mode.chained_assignment = None \n",
    "# List of the column names with features that should be ordinal encoded\n",
    "ordinal_features = ['SEX','VAX_MANU']\n",
    "\n",
    "# Ordinal encode all of these features\n",
    "ordinal = sklearn.preprocessing.OrdinalEncoder()\n",
    "X[ordinal_features] = ordinal.fit_transform(X[ordinal_features])"
   ]
  },
  {
   "cell_type": "markdown",
   "id": "superior-spread",
   "metadata": {},
   "source": [
    "Splitting test/train data"
   ]
  },
  {
   "cell_type": "code",
   "execution_count": 26,
   "id": "blocked-latex",
   "metadata": {},
   "outputs": [],
   "source": [
    "X_train, X_test, y_train, y_test = model_selection.train_test_split(X, y, test_size=0.2, shuffle=True)\n",
    "ss = preprocessing.StandardScaler()\n",
    "X_train = ss.fit_transform(X_train)\n",
    "X_test = ss.transform(X_test)"
   ]
  },
  {
   "cell_type": "code",
   "execution_count": 27,
   "id": "prescription-transsexual",
   "metadata": {},
   "outputs": [
    {
     "name": "stdout",
     "output_type": "stream",
     "text": [
      "              precision    recall  f1-score   support\n",
      "\n",
      "           0       0.73      0.97      0.83      4871\n",
      "           1       0.59      0.10      0.17      1964\n",
      "\n",
      "    accuracy                           0.72      6835\n",
      "   macro avg       0.66      0.53      0.50      6835\n",
      "weighted avg       0.69      0.72      0.64      6835\n",
      "\n"
     ]
    }
   ],
   "source": [
    "# train the model on train set\n",
    "model = SVC()\n",
    "model.fit(X_train, y_train)\n",
    "  \n",
    "# print prediction results --- without hyperparameter training\n",
    "predictions = model.predict(X_test)\n",
    "print(classification_report(y_test, predictions))"
   ]
  },
  {
   "cell_type": "code",
   "execution_count": null,
   "id": "animal-luxury",
   "metadata": {},
   "outputs": [],
   "source": [
    "# defining parameter range\n",
    "params = {'C': [0.1, 1, 10, 100, 1000], \n",
    "              'decision_function_shape': [\"ovo\", \"ovr\"],\n",
    "              'kernel': [\"linear\", \"poly\", \"rbf\", \"sigmoid\"]} \n",
    "  \n",
    "grid = GridSearchCV(SVC(), params, refit = True, verbose = 3)\n",
    "  \n",
    "# fitting the model for grid search\n",
    "grid.fit(X_train, y_train)"
   ]
  },
  {
   "cell_type": "code",
   "execution_count": 32,
   "id": "charged-practitioner",
   "metadata": {},
   "outputs": [
    {
     "name": "stdout",
     "output_type": "stream",
     "text": [
      "              precision    recall  f1-score   support\n",
      "\n",
      "           0       0.71      1.00      0.83      4871\n",
      "           1       0.00      0.00      0.00      1964\n",
      "\n",
      "    accuracy                           0.71      6835\n",
      "   macro avg       0.36      0.50      0.42      6835\n",
      "weighted avg       0.51      0.71      0.59      6835\n",
      "\n"
     ]
    },
    {
     "name": "stderr",
     "output_type": "stream",
     "text": [
      "/Library/Frameworks/Python.framework/Versions/3.9/lib/python3.9/site-packages/sklearn/metrics/_classification.py:1221: UndefinedMetricWarning: Precision and F-score are ill-defined and being set to 0.0 in labels with no predicted samples. Use `zero_division` parameter to control this behavior.\n",
      "  _warn_prf(average, modifier, msg_start, len(result))\n"
     ]
    }
   ],
   "source": [
    "grid = SVC(C=1.0, kernel='linear', decision_function_shape='ovo')\n",
    "grid.fit(X_train, y_train)\n",
    "grid_predictions = grid.predict(X_test)\n",
    "  \n",
    "# print classification report\n",
    "print(classification_report(y_test, grid_predictions))"
   ]
  },
  {
   "cell_type": "code",
   "execution_count": null,
   "id": "consolidated-cancer",
   "metadata": {},
   "outputs": [],
   "source": [
    "clf = svm.SVC(C=1, kernel=\"linear\", decision_function_shape=\"ovo\") \n",
    "clf.fit(X_train, y_train)\n",
    "\n",
    "y_test_pred = clf.predict(X_test)\n",
    "accuracy = metrics.accuracy_score(y_test, y_test_pred)\n",
    "print(accuracy)"
   ]
  },
  {
   "cell_type": "code",
   "execution_count": 16,
   "id": "planned-immigration",
   "metadata": {},
   "outputs": [
    {
     "data": {
      "text/plain": [
       "<Figure size 432x288 with 0 Axes>"
      ]
     },
     "metadata": {},
     "output_type": "display_data"
    },
    {
     "data": {
      "image/png": "[encoded data removed]",
      "text/plain": [
       "<Figure size 432x288 with 2 Axes>"
      ]
     },
     "metadata": {
      "needs_background": "light"
     },
     "output_type": "display_data"
    }
   ],
   "source": [
    "plt.figure()\n",
    "metrics.plot_confusion_matrix(clf, X_test, y_test)\n",
    "plt.show()"
   ]
  },
  {
   "cell_type": "markdown",
   "id": "respiratory-breast",
   "metadata": {},
   "source": [
    "Visualizing SVM"
   ]
  },
  {
   "cell_type": "code",
   "execution_count": 17,
   "id": "general-armenia",
   "metadata": {},
   "outputs": [
    {
     "name": "stdout",
     "output_type": "stream",
     "text": [
      "(27339, 2)\n"
     ]
    }
   ],
   "source": [
    "pca = decomposition.PCA(n_components=2)\n",
    "X_train_2d = pca.fit_transform(X_train) \n",
    "X_test_2d = pca.transform(X_test) # Use the same transformation from the training data for the test data\n",
    "\n",
    "# confirm shape is 2D\n",
    "print(X_train_2d.shape)"
   ]
  },
  {
   "cell_type": "code",
   "execution_count": 15,
   "id": "angry-redhead",
   "metadata": {},
   "outputs": [
    {
     "ename": "NameError",
     "evalue": "name 'X_train_2d' is not defined",
     "output_type": "error",
     "traceback": [
      "\u001b[0;31m---------------------------------------------------------------------------\u001b[0m",
      "\u001b[0;31mNameError\u001b[0m                                 Traceback (most recent call last)",
      "\u001b[0;32m<ipython-input-15-2f04be33165c>\u001b[0m in \u001b[0;36m<module>\u001b[0;34m\u001b[0m\n\u001b[1;32m      2\u001b[0m \u001b[0;34m\u001b[0m\u001b[0m\n\u001b[1;32m      3\u001b[0m \u001b[0mplt\u001b[0m\u001b[0;34m.\u001b[0m\u001b[0mfigure\u001b[0m\u001b[0;34m(\u001b[0m\u001b[0mfigsize\u001b[0m\u001b[0;34m=\u001b[0m\u001b[0;34m(\u001b[0m\u001b[0;36m10\u001b[0m\u001b[0;34m,\u001b[0m\u001b[0;36m10\u001b[0m\u001b[0;34m)\u001b[0m\u001b[0;34m)\u001b[0m\u001b[0;34m\u001b[0m\u001b[0;34m\u001b[0m\u001b[0m\n\u001b[0;32m----> 4\u001b[0;31m \u001b[0mplt\u001b[0m\u001b[0;34m.\u001b[0m\u001b[0mscatter\u001b[0m\u001b[0;34m(\u001b[0m\u001b[0mX_train_2d\u001b[0m\u001b[0;34m[\u001b[0m\u001b[0;34m:\u001b[0m\u001b[0;34m,\u001b[0m\u001b[0;36m0\u001b[0m\u001b[0;34m]\u001b[0m\u001b[0;34m,\u001b[0m \u001b[0mX_train_2d\u001b[0m\u001b[0;34m[\u001b[0m\u001b[0;34m:\u001b[0m\u001b[0;34m,\u001b[0m\u001b[0;36m1\u001b[0m\u001b[0;34m]\u001b[0m\u001b[0;34m,\u001b[0m \u001b[0mc\u001b[0m\u001b[0;34m=\u001b[0m\u001b[0my7\u001b[0m\u001b[0;34m,\u001b[0m \u001b[0mcmap\u001b[0m\u001b[0;34m=\u001b[0m\u001b[0mplt\u001b[0m\u001b[0;34m.\u001b[0m\u001b[0mcm\u001b[0m\u001b[0;34m.\u001b[0m\u001b[0mcoolwarm\u001b[0m\u001b[0;34m,\u001b[0m \u001b[0ms\u001b[0m\u001b[0;34m=\u001b[0m\u001b[0;36m20\u001b[0m\u001b[0;34m)\u001b[0m\u001b[0;34m\u001b[0m\u001b[0;34m\u001b[0m\u001b[0m\n\u001b[0m",
      "\u001b[0;31mNameError\u001b[0m: name 'X_train_2d' is not defined"
     ]
    },
    {
     "data": {
      "text/plain": [
       "<Figure size 720x720 with 0 Axes>"
      ]
     },
     "metadata": {},
     "output_type": "display_data"
    }
   ],
   "source": [
    "y7 = [0 if y == 0 else 1 for y in y_train]\n",
    "\n",
    "plt.figure(figsize=(10,10))\n",
    "plt.scatter(X_train_2d[:,0], X_train_2d[:,1], c=y7, cmap=plt.cm.coolwarm, s=20)"
   ]
  },
  {
   "cell_type": "code",
   "execution_count": null,
   "id": "stock-devices",
   "metadata": {},
   "outputs": [],
   "source": []
  }
 ],
 "metadata": {
  "kernelspec": {
   "display_name": "Python 3",
   "language": "python",
   "name": "python3"
  },
  "language_info": {
   "codemirror_mode": {
    "name": "ipython",
    "version": 3
   },
   "file_extension": ".py",
   "mimetype": "text/x-python",
   "name": "python",
   "nbconvert_exporter": "python",
   "pygments_lexer": "ipython3",
   "version": "3.9.1"
  }
 },
 "nbformat": 4,
 "nbformat_minor": 5
}
